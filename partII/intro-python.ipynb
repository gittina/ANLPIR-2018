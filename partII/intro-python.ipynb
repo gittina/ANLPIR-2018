{
 "cells": [
  {
   "cell_type": "markdown",
   "metadata": {
    "slideshow": {
     "slide_type": "slide"
    }
   },
   "source": [
    "# Syntax\n",
    "<ul>\n",
    "    <li> Most languages don't care about indentation, but most humans do.\n",
    "    <li> Python embraces indentation, you should always respect identation with space (no brackets).\n",
    "    <li> For your (our) health, never mix tabs and spaces as it will produces \"indentation errors\".\n",
    "</ul>"
   ]
  },
  {
   "cell_type": "code",
   "execution_count": 41,
   "metadata": {
    "slideshow": {
     "slide_type": "fragment"
    }
   },
   "outputs": [],
   "source": [
    "a = 5\n",
    "b = 7\n",
    "\n",
    "if a == b:\n",
    "    print(\"Sounds good!\")"
   ]
  },
  {
   "cell_type": "markdown",
   "metadata": {
    "slideshow": {
     "slide_type": "slide"
    }
   },
   "source": [
    "# Variables\n",
    "\n",
    "A variable is a named place where we can store data that can be retrieve later using the variable name.\n",
    "\n",
    "In Python variables:\n",
    "<ul>\n",
    "    <li> Must start with a letter or underscore\n",
    "    <li> Must consist of letters and numbers and underscores\n",
    "    <li> Case sensitive ( a != A)\n",
    "    <li> You cannot use some reserverd words as variables (e.g., and, del, for, is)\n",
    "</ul>"
   ]
  },
  {
   "cell_type": "code",
   "execution_count": 5,
   "metadata": {
    "slideshow": {
     "slide_type": "fragment"
    }
   },
   "outputs": [
    {
     "name": "stdout",
     "output_type": "stream",
     "text": [
      "5\n",
      "9\n",
      "10\n"
     ]
    }
   ],
   "source": [
    "a = 5\n",
    "y = 9\n",
    "\n",
    "print(a)\n",
    "print(y)\n",
    "print(c)"
   ]
  },
  {
   "cell_type": "markdown",
   "metadata": {
    "slideshow": {
     "slide_type": "slide"
    }
   },
   "source": [
    "We also have constants, fixed values such as numbers, letters and strings that does not change their value."
   ]
  },
  {
   "cell_type": "code",
   "execution_count": 42,
   "metadata": {},
   "outputs": [
    {
     "name": "stdout",
     "output_type": "stream",
     "text": [
      "2018\n",
      "Hello Worooold!\n"
     ]
    }
   ],
   "source": [
    "print(2018)\n",
    "print('Hello World!')"
   ]
  },
  {
   "cell_type": "markdown",
   "metadata": {
    "slideshow": {
     "slide_type": "slide"
    }
   },
   "source": [
    "# Types\n",
    "\n",
    "In Python type matters! Variables, literlas and constants have a type."
   ]
  },
  {
   "cell_type": "code",
   "execution_count": 31,
   "metadata": {
    "slideshow": {
     "slide_type": "fragment"
    }
   },
   "outputs": [
    {
     "name": "stdout",
     "output_type": "stream",
     "text": [
      "11\n"
     ]
    }
   ],
   "source": [
    "a = 5\n",
    "b = 6\n",
    "print(a + b)"
   ]
  },
  {
   "cell_type": "code",
   "execution_count": 7,
   "metadata": {
    "slideshow": {
     "slide_type": "fragment"
    }
   },
   "outputs": [
    {
     "name": "stdout",
     "output_type": "stream",
     "text": [
      "hello6\n"
     ]
    }
   ],
   "source": [
    "a = \"hello\"\n",
    "b = 6\n",
    "\n",
    "print(a + str(b))"
   ]
  },
  {
   "cell_type": "markdown",
   "metadata": {
    "slideshow": {
     "slide_type": "slide"
    }
   },
   "source": [
    "Python knows what type everything is and provide the type() function to discover it."
   ]
  },
  {
   "cell_type": "code",
   "execution_count": 10,
   "metadata": {
    "slideshow": {
     "slide_type": "fragment"
    }
   },
   "outputs": [
    {
     "name": "stdout",
     "output_type": "stream",
     "text": [
      "<type 'NoneType'>\n"
     ]
    }
   ],
   "source": [
    "# String\n",
    "course = \"Advanced Natural Language Processing and Information Retrieval\"\n",
    "\n",
    "# Integers\n",
    "year = 2010\n",
    "year = int(\"2010\")\n",
    "\n",
    "# Floating Point Numbers\n",
    "pi = 3.14159265\n",
    "pi = float(\"3.14159265\")\n",
    "\n",
    "# Null\n",
    "a = None\n",
    "print(type(a))"
   ]
  },
  {
   "cell_type": "code",
   "execution_count": 38,
   "metadata": {
    "slideshow": {
     "slide_type": "fragment"
    }
   },
   "outputs": [
    {
     "data": {
      "text/plain": [
       "NoneType"
      ]
     },
     "execution_count": 38,
     "metadata": {},
     "output_type": "execute_result"
    }
   ],
   "source": [
    "type(a)"
   ]
  },
  {
   "cell_type": "markdown",
   "metadata": {
    "slideshow": {
     "slide_type": "slide"
    }
   },
   "source": [
    "# Operators"
   ]
  },
  {
   "cell_type": "markdown",
   "metadata": {
    "slideshow": {
     "slide_type": "subslide"
    }
   },
   "source": [
    "<h3> Arithmetic </h3>\n",
    "\n",
    "<ul>\n",
    "    <li> Addition: +\n",
    "    <li> Substraction: -\n",
    "    <li> Multiplication: *\n",
    "    <li> Division: /\n",
    "    <li> Power: **\n",
    "    <li> Remainder: %\n",
    "</ul>"
   ]
  },
  {
   "cell_type": "code",
   "execution_count": 29,
   "metadata": {
    "slideshow": {
     "slide_type": "subslide"
    }
   },
   "outputs": [
    {
     "data": {
      "text/plain": [
       "-5"
      ]
     },
     "execution_count": 29,
     "metadata": {},
     "output_type": "execute_result"
    }
   ],
   "source": [
    "a = 5\n",
    "a += 5\n",
    "a =- 5\n",
    "a # <- valid in Jupyter, otherwise print(a)"
   ]
  },
  {
   "cell_type": "markdown",
   "metadata": {
    "slideshow": {
     "slide_type": "subslide"
    }
   },
   "source": [
    "### Odd or even?"
   ]
  },
  {
   "cell_type": "code",
   "execution_count": null,
   "metadata": {
    "slideshow": {
     "slide_type": "fragment"
    }
   },
   "outputs": [],
   "source": [
    "a = 5\n",
    "\n",
    "if (a%2) == 0:\n",
    "    print(\"Even\")\n",
    "else:\n",
    "    print(\"Odd\")"
   ]
  },
  {
   "cell_type": "code",
   "execution_count": null,
   "metadata": {
    "slideshow": {
     "slide_type": "subslide"
    }
   },
   "outputs": [],
   "source": []
  },
  {
   "cell_type": "markdown",
   "metadata": {
    "slideshow": {
     "slide_type": "slide"
    }
   },
   "source": [
    "<h3> String Manipulation </h3>"
   ]
  },
  {
   "cell_type": "code",
   "execution_count": 11,
   "metadata": {
    "slideshow": {
     "slide_type": "fragment"
    }
   },
   "outputs": [
    {
     "name": "stdout",
     "output_type": "stream",
     "text": [
      "Natural Language Processing\n"
     ]
    }
   ],
   "source": [
    "n = \"Natural\"\n",
    "l = \"Language\"\n",
    "p = \"Processing\"\n",
    "\n",
    "course = n + \" \" + l + \" \" + p\n",
    "print(course)"
   ]
  },
  {
   "cell_type": "code",
   "execution_count": 12,
   "metadata": {
    "slideshow": {
     "slide_type": "fragment"
    }
   },
   "outputs": [
    {
     "name": "stdout",
     "output_type": "stream",
     "text": [
      "Natural Language Processing\n"
     ]
    }
   ],
   "source": [
    "course = ' '.join([n, l, p])\n",
    "print(course)"
   ]
  },
  {
   "cell_type": "markdown",
   "metadata": {
    "slideshow": {
     "slide_type": "slide"
    }
   },
   "source": [
    "<h3> Logical Comparison </h3>"
   ]
  },
  {
   "cell_type": "code",
   "execution_count": 15,
   "metadata": {
    "slideshow": {
     "slide_type": "subslide"
    }
   },
   "outputs": [
    {
     "name": "stdout",
     "output_type": "stream",
     "text": [
      "a and b: 0\n",
      "a or b: 1\n",
      "not b: 1\n",
      "(a and not (b or c)): 1\n"
     ]
    }
   ],
   "source": [
    "a = 1\n",
    "b = 0\n",
    "c = 0\n",
    "\n",
    "print(\"a and b: %d\" % (a and b))\n",
    "print(\"a or b: %d\" % (a or b))\n",
    "print(\"not b: %d\" % (not b))\n",
    "print(\"(a and not (b or c)): %d\" % (a and not (b or c)))"
   ]
  },
  {
   "cell_type": "markdown",
   "metadata": {
    "slideshow": {
     "slide_type": "slide"
    }
   },
   "source": [
    "<h3> Identity and Arithmetic comparison </h3>"
   ]
  },
  {
   "cell_type": "code",
   "execution_count": 21,
   "metadata": {
    "slideshow": {
     "slide_type": "fragment"
    }
   },
   "outputs": [
    {
     "name": "stdout",
     "output_type": "stream",
     "text": [
      "True\n",
      "False\n",
      "True\n"
     ]
    }
   ],
   "source": [
    "# Identity comparison\n",
    "\n",
    "print(1 and True)\n",
    "print(1 is True)\n",
    "print(1 is 1)"
   ]
  },
  {
   "cell_type": "code",
   "execution_count": 30,
   "metadata": {
    "slideshow": {
     "slide_type": "fragment"
    }
   },
   "outputs": [
    {
     "name": "stdout",
     "output_type": "stream",
     "text": [
      "b is greater than a\n"
     ]
    }
   ],
   "source": [
    "# Arithmetic Comparison\n",
    "\n",
    "a = 5\n",
    "b = 6\n",
    "\n",
    "if a > b:\n",
    "    print(\"a is greater than b\")\n",
    "elif a == b:\n",
    "    print(\"a is equals to b\")\n",
    "else:\n",
    "    print(\"b is greater than a\")"
   ]
  },
  {
   "cell_type": "code",
   "execution_count": null,
   "metadata": {},
   "outputs": [],
   "source": [
    "Esercizio. "
   ]
  },
  {
   "cell_type": "markdown",
   "metadata": {
    "slideshow": {
     "slide_type": "slide"
    }
   },
   "source": [
    "# Conditionals "
   ]
  },
  {
   "cell_type": "markdown",
   "metadata": {
    "slideshow": {
     "slide_type": "slide"
    }
   },
   "source": [
    "<h3>One-Way Decisions</h3>"
   ]
  },
  {
   "cell_type": "code",
   "execution_count": null,
   "metadata": {
    "slideshow": {
     "slide_type": "fragment"
    }
   },
   "outputs": [],
   "source": [
    "a = 10\n",
    "\n",
    "if a == 10:\n",
    "    print(\"Yes, it is 10.\")"
   ]
  },
  {
   "cell_type": "markdown",
   "metadata": {
    "slideshow": {
     "slide_type": "slide"
    }
   },
   "source": [
    "<h3>Two-Way Decisions</h3>"
   ]
  },
  {
   "cell_type": "code",
   "execution_count": null,
   "metadata": {
    "slideshow": {
     "slide_type": "fragment"
    }
   },
   "outputs": [],
   "source": [
    "a = 10\n",
    "\n",
    "if a < 10:\n",
    "    print(\"Smaller\")\n",
    "else:\n",
    "    print(\"Bigger\")"
   ]
  },
  {
   "cell_type": "markdown",
   "metadata": {
    "slideshow": {
     "slide_type": "slide"
    }
   },
   "source": [
    "<h3>Multi-Way Decisions</h3>"
   ]
  },
  {
   "cell_type": "code",
   "execution_count": null,
   "metadata": {
    "slideshow": {
     "slide_type": "fragment"
    }
   },
   "outputs": [],
   "source": [
    "a = 10\n",
    "\n",
    "if a < 10:\n",
    "    print(\"Smaller\")\n",
    "elif a == 10:\n",
    "    print(\"Equals\")\n",
    "else:\n",
    "    print(\"Bigger\")"
   ]
  },
  {
   "cell_type": "markdown",
   "metadata": {
    "slideshow": {
     "slide_type": "slide"
    }
   },
   "source": [
    "# try / except\n",
    "\n",
    "Error handling in Python is done through the use of exceptions that are caught in try blocks and handled in except blocks. \n",
    "\n",
    "Dangerous sections can be surrounded with try / excepts:\n",
    "<ul>\n",
    "    <li> If the code in the try works, the except is skipped.\n",
    "    <li> If the code in the try fails, it jumps to the except section\n",
    "</ul>"
   ]
  },
  {
   "cell_type": "code",
   "execution_count": 13,
   "metadata": {
    "slideshow": {
     "slide_type": "slide"
    }
   },
   "outputs": [
    {
     "ename": "TypeError",
     "evalue": "cannot concatenate 'str' and 'int' objects",
     "output_type": "error",
     "traceback": [
      "\u001b[0;31m---------------------------------------------------------------------------\u001b[0m",
      "\u001b[0;31mTypeError\u001b[0m                                 Traceback (most recent call last)",
      "\u001b[0;32m<ipython-input-13-8cb9390fa4fd>\u001b[0m in \u001b[0;36m<module>\u001b[0;34m()\u001b[0m\n\u001b[1;32m      2\u001b[0m \u001b[0myear\u001b[0m \u001b[0;34m=\u001b[0m \u001b[0;36m2018\u001b[0m\u001b[0;34m\u001b[0m\u001b[0m\n\u001b[1;32m      3\u001b[0m \u001b[0;34m\u001b[0m\u001b[0m\n\u001b[0;32m----> 4\u001b[0;31m \u001b[0;32mprint\u001b[0m\u001b[0;34m(\u001b[0m\u001b[0mcourse\u001b[0m \u001b[0;34m+\u001b[0m \u001b[0;34m\" \"\u001b[0m \u001b[0;34m+\u001b[0m \u001b[0myear\u001b[0m\u001b[0;34m)\u001b[0m\u001b[0;34m\u001b[0m\u001b[0m\n\u001b[0m",
      "\u001b[0;31mTypeError\u001b[0m: cannot concatenate 'str' and 'int' objects"
     ]
    }
   ],
   "source": [
    "course = \"Advanced Natural Language Processing and Information Retrieval\"\n",
    "year = 2018\n",
    "\n",
    "print(course + \" \" + year)"
   ]
  },
  {
   "cell_type": "code",
   "execution_count": 2,
   "metadata": {
    "slideshow": {
     "slide_type": "fragment"
    }
   },
   "outputs": [
    {
     "name": "stdout",
     "output_type": "stream",
     "text": [
      "Advanced Natural Language Processing and Information Retrieval\n"
     ]
    }
   ],
   "source": [
    "try:\n",
    "    course = \"Advanced Natural Language Processing and Information Retrieval\"\n",
    "    year = 2018\n",
    "\n",
    "    print(course + \" \" + year)\n",
    "    \n",
    "except:\n",
    "    print(course)"
   ]
  },
  {
   "cell_type": "markdown",
   "metadata": {
    "slideshow": {
     "slide_type": "slide"
    }
   },
   "source": [
    "# Functions\n",
    "\n",
    "Pieces of stored (and reusable) code.\n",
    "In Python there are two kinds of functions:\n",
    "<ul>\n",
    "    <li> Built-in functions (e.g., type()), that are provided as part of Python. The name used for built-in functions are reseved words.\n",
    "    <li> Functions that we define ourself\n",
    "</ul>"
   ]
  },
  {
   "cell_type": "markdown",
   "metadata": {
    "slideshow": {
     "slide_type": "slide"
    }
   },
   "source": [
    "Basic function"
   ]
  },
  {
   "cell_type": "code",
   "execution_count": 14,
   "metadata": {
    "slideshow": {
     "slide_type": "slide"
    }
   },
   "outputs": [
    {
     "name": "stdout",
     "output_type": "stream",
     "text": [
      "Hello! This is my first function.\n"
     ]
    }
   ],
   "source": [
    "def my_function():\n",
    "    print(\"Hello! This is my first function.\")\n",
    "    \n",
    "my_function()"
   ]
  },
  {
   "cell_type": "code",
   "execution_count": 17,
   "metadata": {},
   "outputs": [
    {
     "data": {
      "text/plain": [
       "function"
      ]
     },
     "execution_count": 17,
     "metadata": {},
     "output_type": "execute_result"
    }
   ],
   "source": [
    "type(my_function)"
   ]
  },
  {
   "cell_type": "markdown",
   "metadata": {
    "slideshow": {
     "slide_type": "slide"
    }
   },
   "source": [
    "Function with POSITIONAL arguments"
   ]
  },
  {
   "cell_type": "code",
   "execution_count": 46,
   "metadata": {
    "slideshow": {
     "slide_type": "fragment"
    }
   },
   "outputs": [
    {
     "data": {
      "text/plain": [
       "10"
      ]
     },
     "execution_count": 46,
     "metadata": {},
     "output_type": "execute_result"
    }
   ],
   "source": [
    "def get_max(a, b):\n",
    "    if(a >= b):\n",
    "        return a\n",
    "    return b\n",
    "\n",
    "get_max(5,10)"
   ]
  },
  {
   "cell_type": "markdown",
   "metadata": {
    "slideshow": {
     "slide_type": "slide"
    }
   },
   "source": [
    "Function with KEYWORD arguments"
   ]
  },
  {
   "cell_type": "code",
   "execution_count": 19,
   "metadata": {
    "slideshow": {
     "slide_type": "fragment"
    }
   },
   "outputs": [
    {
     "data": {
      "text/plain": [
       "6"
      ]
     },
     "execution_count": 19,
     "metadata": {},
     "output_type": "execute_result"
    }
   ],
   "source": [
    "def get_max(a=0, b=0):\n",
    "    if(a >= b):\n",
    "        return a\n",
    "    return b\n",
    "\n",
    "get_max(a=0,b=6)"
   ]
  },
  {
   "cell_type": "markdown",
   "metadata": {
    "slideshow": {
     "slide_type": "slide"
    }
   },
   "source": [
    "Function with POSITIONAL + KEYWORD arguments"
   ]
  },
  {
   "cell_type": "code",
   "execution_count": 53,
   "metadata": {
    "slideshow": {
     "slide_type": "fragment"
    }
   },
   "outputs": [
    {
     "data": {
      "text/plain": [
       "10"
      ]
     },
     "execution_count": 53,
     "metadata": {},
     "output_type": "execute_result"
    }
   ],
   "source": [
    "def get_max(a, b=0):\n",
    "    if(a >= b):\n",
    "        return a\n",
    "    return b\n",
    "\n",
    "get_max(5,b=10)"
   ]
  },
  {
   "cell_type": "markdown",
   "metadata": {
    "slideshow": {
     "slide_type": "slide"
    }
   },
   "source": [
    "Function with ARBITRARY arguments\n",
    "\n",
    "<ul>\n",
    "    <li>*args = list of arguments, as positional arguments\n",
    "    <li>**kwargs = dictionary, whose keys become separate keyword arguments and the values become values of these arguments. It allows you to handle named arguments that you have not defined in advance."
   ]
  },
  {
   "cell_type": "code",
   "execution_count": 56,
   "metadata": {
    "slideshow": {
     "slide_type": "fragment"
    }
   },
   "outputs": [
    {
     "name": "stdout",
     "output_type": "stream",
     "text": [
      "1\n",
      "2\n",
      "3\n",
      "name\n"
     ]
    }
   ],
   "source": [
    "def some_function(*args, **kwargs):\n",
    "    for arg in args:\n",
    "        print arg\n",
    "    for key, value in kwargs.items():\n",
    "        print key\n",
    "        \n",
    "some_function(1,2,3,name='numbers')"
   ]
  },
  {
   "cell_type": "markdown",
   "metadata": {
    "slideshow": {
     "slide_type": "slide"
    }
   },
   "source": [
    "# Loops and Iteration"
   ]
  },
  {
   "cell_type": "markdown",
   "metadata": {
    "slideshow": {
     "slide_type": "fragment"
    }
   },
   "source": [
    "Loops (repeated steps) have iteration variables that change each time through a loop. Often these iteration variables go through a sequence of numbers.\n",
    "\n",
    "As for other programming languages, in Python we have for, while and the statements break and continue."
   ]
  },
  {
   "cell_type": "code",
   "execution_count": 57,
   "metadata": {
    "slideshow": {
     "slide_type": "slide"
    }
   },
   "outputs": [
    {
     "name": "stdout",
     "output_type": "stream",
     "text": [
      "9\n",
      "8\n",
      "7\n",
      "6\n",
      "5\n",
      "4\n",
      "3\n",
      "2\n",
      "1\n",
      "0\n",
      "a is now 0\n"
     ]
    }
   ],
   "source": [
    "a = 10\n",
    "\n",
    "while a > 0:\n",
    "    a = a - 1\n",
    "    print(a)\n",
    "    \n",
    "print(\"a is now 0\")"
   ]
  },
  {
   "cell_type": "code",
   "execution_count": 20,
   "metadata": {
    "slideshow": {
     "slide_type": "fragment"
    }
   },
   "outputs": [
    {
     "name": "stdout",
     "output_type": "stream",
     "text": [
      "0\n",
      "1\n",
      "2\n",
      "3\n",
      "4\n",
      "5\n",
      "6\n",
      "7\n",
      "8\n",
      "9\n",
      "apple\n",
      "orange\n",
      "raspberry\n"
     ]
    }
   ],
   "source": [
    "for i in range(10): # from 0 to 9\n",
    "    print(i)\n",
    "    \n",
    "fruits = ['apple', 'orange', 'raspberry']\n",
    "for fruit in fruits:\n",
    "    print fruit"
   ]
  },
  {
   "cell_type": "code",
   "execution_count": 21,
   "metadata": {
    "slideshow": {
     "slide_type": "slide"
    }
   },
   "outputs": [
    {
     "name": "stdout",
     "output_type": "stream",
     "text": [
      "The smallest number in the list is 1\n"
     ]
    }
   ],
   "source": [
    "smallest = None\n",
    "\n",
    "for value in [2, 1, 90, 8, 18] :\n",
    "    if smallest is None : # is and is not are operators that can be used in logical expression\n",
    "        smallest = value\n",
    "    elif value < smallest :\n",
    "        smallest = value\n",
    "    \n",
    "print(\"The smallest number in the list is %d\" % smallest)"
   ]
  },
  {
   "cell_type": "markdown",
   "metadata": {
    "slideshow": {
     "slide_type": "fragment"
    }
   },
   "source": [
    "<ul>\n",
    "    <li>is checks for identity. a is b is True iff a and b are the same object (they are both stored in the same memory address).\n",
    "    <li> == checks for equality. a == b is True if a.__eq__(b) is True.\n",
    "</ul>"
   ]
  },
  {
   "cell_type": "markdown",
   "metadata": {
    "slideshow": {
     "slide_type": "slide"
    }
   },
   "source": [
    "# Data Structures\n",
    "\n",
    "A particular way of organizing data in a computer.\n",
    "\n",
    "In Python we have two main important data structures:\n",
    "<ul> \n",
    "    <li> List, a linear collection of values that stay in order\n",
    "    <li> Dictionaries, a bag of values each with its own label\n",
    "</ul>"
   ]
  },
  {
   "cell_type": "markdown",
   "metadata": {
    "slideshow": {
     "slide_type": "slide"
    }
   },
   "source": [
    "<h3> List </h3>\n",
    "<ul>\n",
    "    <li> A List is a kind of Collection, which allows us to have many values in a single variable.\n",
    "    <li> Differently from Strings, Lists are mutable. We can change an element of a list using the index operator.\n",
    "</ul>"
   ]
  },
  {
   "cell_type": "code",
   "execution_count": 23,
   "metadata": {
    "slideshow": {
     "slide_type": "fragment"
    }
   },
   "outputs": [
    {
     "name": "stdout",
     "output_type": "stream",
     "text": [
      "[2010, 2011, 2012, 2013, 2014, 2015, 2016, 2017, 2018]\n",
      "We have 9 elements.\n"
     ]
    }
   ],
   "source": [
    "years = [2010, 2011, 2012, 2013, 2014, 2015, 2016, 2017, 2018]\n",
    "\n",
    "print(years)\n",
    "\n",
    "print(\"We have \" + str(len(years)) + \" elements.\")"
   ]
  },
  {
   "cell_type": "code",
   "execution_count": 24,
   "metadata": {
    "slideshow": {
     "slide_type": "fragment"
    }
   },
   "outputs": [
    {
     "name": "stdout",
     "output_type": "stream",
     "text": [
      "2010, 2011\n",
      "1000, 2011\n",
      "[2010, 2011, 2012, 2013, 2014, 2015, 2016, 2017]\n"
     ]
    }
   ],
   "source": [
    "print(str(years[0]) + \", \" + str(years[1]))\n",
    "\n",
    "years[0] = 1000\n",
    "\n",
    "print(str(years[0]) + \", \" + str(years[1]))\n",
    "\n",
    "# Range function\n",
    "print range(2010, 2018)"
   ]
  },
  {
   "cell_type": "code",
   "execution_count": 25,
   "metadata": {},
   "outputs": [
    {
     "data": {
      "text/plain": [
       "[1000, 2011, 2012, 2013, 2014, 2015, 2016, 2017, 2018]"
      ]
     },
     "execution_count": 25,
     "metadata": {},
     "output_type": "execute_result"
    }
   ],
   "source": [
    "years"
   ]
  },
  {
   "cell_type": "code",
   "execution_count": null,
   "metadata": {
    "slideshow": {
     "slide_type": "slide"
    }
   },
   "outputs": [],
   "source": [
    "print(years)\n",
    "\n",
    "years_2000 = []\n",
    "for y in years:\n",
    "    if y > 2000:\n",
    "        years_2000.append(y)\n",
    "print(years_2000)"
   ]
  },
  {
   "cell_type": "code",
   "execution_count": 75,
   "metadata": {
    "slideshow": {
     "slide_type": "fragment"
    }
   },
   "outputs": [
    {
     "name": "stdout",
     "output_type": "stream",
     "text": [
      "[1000, 2011, 2012, 2013, 2014, 2015, 2016, 2017, 2018]\n",
      "[2011, 2012, 2013, 2014, 2015, 2016, 2017, 2018]\n",
      "[2011, 2012, 2013, 2014, 2015, 2016, 2017, 2018]\n"
     ]
    }
   ],
   "source": [
    "years_2000 = [y for y in years if y > 2000]\n",
    "\n",
    "print(years_2000)"
   ]
  },
  {
   "cell_type": "markdown",
   "metadata": {
    "slideshow": {
     "slide_type": "slide"
    }
   },
   "source": [
    "<h3> Dictionaries </h3>\n",
    "<ul>\n",
    "    <li> Very powerful\n",
    "    <li> Allow us to do fast databese-like operations in Python\n",
    "    <li> They are like lists except that they use keys instead of numbers to look up values\n",
    "</ul>"
   ]
  },
  {
   "cell_type": "code",
   "execution_count": 26,
   "metadata": {
    "slideshow": {
     "slide_type": "fragment"
    }
   },
   "outputs": [
    {
     "name": "stdout",
     "output_type": "stream",
     "text": [
      "{'courses': 5, 'age': 23, 'name': 'Giovanni', 'nationality': 'italian'}\n"
     ]
    }
   ],
   "source": [
    "student = dict()\n",
    "\n",
    "student['name'] = 'Giovanni'\n",
    "student['age'] = 23\n",
    "student['courses'] = 5\n",
    "student['nationality'] = 'italian'\n",
    "\n",
    "print(student)"
   ]
  },
  {
   "cell_type": "code",
   "execution_count": 29,
   "metadata": {
    "slideshow": {
     "slide_type": "fragment"
    }
   },
   "outputs": [
    {
     "name": "stdout",
     "output_type": "stream",
     "text": [
      "23\n",
      "{'courses': 5, 'age': 23, 'name': 'Giovanni', 'nationality': 'italian'}\n"
     ]
    }
   ],
   "source": [
    "print(student['age'])\n",
    "\n",
    "student = {'name':'Giovanni', 'age': 23, 'courses':5, 'nationality':'italian'}\n",
    "\n",
    "print student"
   ]
  },
  {
   "cell_type": "code",
   "execution_count": 30,
   "metadata": {
    "slideshow": {
     "slide_type": "slide"
    }
   },
   "outputs": [
    {
     "name": "stdout",
     "output_type": "stream",
     "text": [
      "courses: 5\n",
      "age: 23\n",
      "name: Giovanni\n",
      "nationality: italian\n"
     ]
    }
   ],
   "source": [
    "for key, value in student.iteritems():\n",
    "    print str(key) + \": \" + str(value)"
   ]
  },
  {
   "cell_type": "code",
   "execution_count": 31,
   "metadata": {
    "slideshow": {
     "slide_type": "fragment"
    }
   },
   "outputs": [
    {
     "name": "stdout",
     "output_type": "stream",
     "text": [
      "['courses', 'age', 'name', 'nationality']\n",
      "[5, 23, 'Giovanni', 'italian']\n",
      "[('courses', 5), ('age', 23), ('name', 'Giovanni'), ('nationality', 'italian')]\n"
     ]
    }
   ],
   "source": [
    "print(student.keys())\n",
    "print(student.values())\n",
    "print(student.items())"
   ]
  },
  {
   "cell_type": "markdown",
   "metadata": {
    "slideshow": {
     "slide_type": "slide"
    }
   },
   "source": [
    "# String\n",
    "\n",
    "A string is a sequence of characters."
   ]
  },
  {
   "cell_type": "code",
   "execution_count": 95,
   "metadata": {
    "slideshow": {
     "slide_type": "fragment"
    }
   },
   "outputs": [
    {
     "name": "stdout",
     "output_type": "stream",
     "text": [
      "Hello\n",
      "H\n",
      "He\n",
      "llo\n",
      "Hello\n"
     ]
    }
   ],
   "source": [
    "str1 = \"Hello\"\n",
    "\n",
    "print(str1)\n",
    "\n",
    "letter = str1[0]\n",
    "print(letter)\n",
    "\n",
    "# Slicing Strings\n",
    "print(str1[:2])\n",
    "print(str1[2:])\n",
    "print(str1[:])"
   ]
  },
  {
   "cell_type": "code",
   "execution_count": 91,
   "metadata": {
    "slideshow": {
     "slide_type": "fragment"
    }
   },
   "outputs": [
    {
     "name": "stdout",
     "output_type": "stream",
     "text": [
      "H\n",
      "e\n",
      "l\n",
      "l\n",
      "o\n"
     ]
    }
   ],
   "source": [
    "for letter in str1:\n",
    "    print letter"
   ]
  },
  {
   "cell_type": "markdown",
   "metadata": {
    "slideshow": {
     "slide_type": "slide"
    }
   },
   "source": [
    "<h3> String comparison </h3>"
   ]
  },
  {
   "cell_type": "code",
   "execution_count": 34,
   "metadata": {
    "slideshow": {
     "slide_type": "fragment"
    }
   },
   "outputs": [
    {
     "name": "stdout",
     "output_type": "stream",
     "text": [
      "Apple comes before Orange\n"
     ]
    }
   ],
   "source": [
    "str1 = 'Apple'\n",
    "str2 = 'Orange'\n",
    "\n",
    "if str1 == str2:\n",
    "    print(\"Same fruit\")\n",
    "elif str1 < str2:\n",
    "    print(str1 + \" comes before \" + str2)\n",
    "else:\n",
    "    print(str2 + \" comes after \" + str1)"
   ]
  },
  {
   "cell_type": "markdown",
   "metadata": {
    "slideshow": {
     "slide_type": "slide"
    }
   },
   "source": [
    "<ul>\n",
    "    <li> Python has a set of string functions which are in the string library. \n",
    "    <li> These functions are already built into every string\n",
    "    <li> They do not modify the original string, but return a news alterated string.\n",
    "</ul>"
   ]
  },
  {
   "cell_type": "code",
   "execution_count": 36,
   "metadata": {
    "slideshow": {
     "slide_type": "fragment"
    }
   },
   "outputs": [
    {
     "name": "stdout",
     "output_type": "stream",
     "text": [
      "apple\n",
      "APPLE\n",
      "Apple\n",
      "-1\n",
      "apple\n"
     ]
    }
   ],
   "source": [
    "# Lower\n",
    "print(str1.lower())\n",
    "\n",
    "# Upper\n",
    "print(str1.upper())\n",
    "\n",
    "# Capitalize\n",
    "print(str1.capitalize())\n",
    "\n",
    "# find\n",
    "pos = str1.find(\"k\")\n",
    "print(pos)\n",
    "\n",
    "# Replace\n",
    "print(str1.replace(\"A\",\"a\"))"
   ]
  },
  {
   "cell_type": "markdown",
   "metadata": {
    "slideshow": {
     "slide_type": "slide"
    }
   },
   "source": [
    "Extracts the email in this text \"my email is barlacchi@fbk.eu or gianni.barlacchi@unitn.it\""
   ]
  },
  {
   "cell_type": "code",
   "execution_count": 37,
   "metadata": {
    "slideshow": {
     "slide_type": "fragment"
    }
   },
   "outputs": [],
   "source": [
    "email = \"my email is barlacchi@fbk.eu or gianni.barlacchi@unitn.it\""
   ]
  },
  {
   "cell_type": "code",
   "execution_count": 40,
   "metadata": {
    "slideshow": {
     "slide_type": "fragment"
    }
   },
   "outputs": [
    {
     "name": "stdout",
     "output_type": "stream",
     "text": [
      "barlacchi@fbk.eu\n",
      "gianni.barlacchi@unitn.it\n"
     ]
    }
   ],
   "source": [
    "words = email.split(\" \")\n",
    "for word in words:\n",
    "    if \"@\" in word:\n",
    "        print word"
   ]
  }
 ],
 "metadata": {
  "celltoolbar": "Slideshow",
  "kernelspec": {
   "display_name": "Python 2",
   "language": "python",
   "name": "python2"
  },
  "language_info": {
   "codemirror_mode": {
    "name": "ipython",
    "version": 2
   },
   "file_extension": ".py",
   "mimetype": "text/x-python",
   "name": "python",
   "nbconvert_exporter": "python",
   "pygments_lexer": "ipython2",
   "version": "2.7.12"
  }
 },
 "nbformat": 4,
 "nbformat_minor": 1
}
