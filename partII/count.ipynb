{
 "cells": [
  {
   "cell_type": "code",
   "execution_count": 2,
   "metadata": {},
   "outputs": [],
   "source": [
    "import csv\n",
    "import re"
   ]
  },
  {
   "cell_type": "code",
   "execution_count": 5,
   "metadata": {},
   "outputs": [
    {
     "data": {
      "text/plain": [
       "'a t ry with regex'"
      ]
     },
     "execution_count": 5,
     "metadata": {},
     "output_type": "execute_result"
    }
   ],
   "source": [
    "word = \"   A t  ry with! RegEX!\"\n",
    "\n",
    "pattern = re.compile('[\\W]+', re.UNICODE) # \\W Matches any character which is not a word character.\n",
    "pattern.sub(r' ', word.lower()).strip()"
   ]
  },
  {
   "cell_type": "code",
   "execution_count": 12,
   "metadata": {},
   "outputs": [
    {
     "name": "stdout",
     "output_type": "stream",
     "text": [
      "['question2', 'question1', 'what is the step by step guide to invest in share market', 'what is the step by step guide to invest in share market in india', 'what would happen if the indian government stole the kohinoor koh i noor diamond back', 'what is the story of kohinoor koh i noor diamond', 'how can internet speed be increased by hacking through dns', 'how can i increase the speed of my internet connection while using a vpn', 'find the remainder when math 23 24 math is divided by 24 23', 'why am i mentally very lonely how can i solve it', 'which fish would survive in salt water', 'which one dissolve in water quikly sugar salt methane and carbon di oxide', 'i m a triple capricorn sun moon and ascendant in capricorn what does this say about me', 'astrology i am a capricorn sun cap moon and cap rising what does that say about me', 'what keeps childern active and far from phone and video games', 'should i buy tiago', 'what should i do to be a great geologist', 'how can i be a good geologist', 'when do you use instead of and', 'when do you use \\xe3 instead of \\xe3']\n"
     ]
    }
   ],
   "source": [
    "lines = []\n",
    "\n",
    "with open(\"data/small.csv\",\"r\") as f:\n",
    "    reader = csv.reader(f)\n",
    "    \n",
    "    for row in reader:\n",
    "        pattern = re.compile('[\\W]+', re.UNICODE)\n",
    "        lines.append(pattern.sub(r' ', row[4].lower()).strip())\n",
    "        lines.append(pattern.sub(r' ', row[3].lower()).strip())\n",
    "        \n",
    "# do the same saving only questions and add re\n",
    "#pattern = re.compile('[\\W]+', re.UNICODE)\n",
    "#lines.append(pattern.sub(r' ', row[4].lower()).strip())\n",
    "#lines.append(pattern.sub(r' ', row[3].lower()).strip())\n",
    "\n",
    "print lines"
   ]
  },
  {
   "cell_type": "code",
   "execution_count": 13,
   "metadata": {},
   "outputs": [],
   "source": [
    "counter = {}\n",
    "\n",
    "for q in lines:\n",
    "    words = q.split(\" \")\n",
    "    for word in words:\n",
    "        counter[word] = counter.get(word,0) + 1 # 0 is the Value to be returned in case key does not exist."
   ]
  },
  {
   "cell_type": "code",
   "execution_count": 14,
   "metadata": {},
   "outputs": [
    {
     "name": "stdout",
     "output_type": "stream",
     "text": [
      "The most frequent word is |i| with 10 occurrencies.\n"
     ]
    }
   ],
   "source": [
    "most_frequent = 0\n",
    "word = None\n",
    "\n",
    "for key, value in counter.iteritems():\n",
    "    if value > most_frequent:\n",
    "        most_frequent = value\n",
    "        word = key\n",
    "\n",
    "print(\"The most frequent word is |\" + word + \"| with \" + str(most_frequent) + \" occurrencies.\")"
   ]
  },
  {
   "cell_type": "code",
   "execution_count": 15,
   "metadata": {},
   "outputs": [
    {
     "data": {
      "text/plain": [
       "{'23': 2,\n",
       " '24': 2,\n",
       " 'a': 5,\n",
       " 'about': 2,\n",
       " 'active': 1,\n",
       " 'am': 2,\n",
       " 'and': 6,\n",
       " 'ascendant': 1,\n",
       " 'astrology': 1,\n",
       " 'back': 1,\n",
       " 'be': 3,\n",
       " 'buy': 1,\n",
       " 'by': 4,\n",
       " 'can': 4,\n",
       " 'cap': 2,\n",
       " 'capricorn': 3,\n",
       " 'carbon': 1,\n",
       " 'childern': 1,\n",
       " 'connection': 1,\n",
       " 'di': 1,\n",
       " 'diamond': 2,\n",
       " 'dissolve': 1,\n",
       " 'divided': 1,\n",
       " 'dns': 1,\n",
       " 'do': 3,\n",
       " 'does': 2,\n",
       " 'far': 1,\n",
       " 'find': 1,\n",
       " 'fish': 1,\n",
       " 'from': 1,\n",
       " 'games': 1,\n",
       " 'geologist': 2,\n",
       " 'good': 1,\n",
       " 'government': 1,\n",
       " 'great': 1,\n",
       " 'guide': 2,\n",
       " 'hacking': 1,\n",
       " 'happen': 1,\n",
       " 'how': 4,\n",
       " 'i': 10,\n",
       " 'if': 1,\n",
       " 'in': 6,\n",
       " 'increase': 1,\n",
       " 'increased': 1,\n",
       " 'india': 1,\n",
       " 'indian': 1,\n",
       " 'instead': 2,\n",
       " 'internet': 2,\n",
       " 'invest': 2,\n",
       " 'is': 4,\n",
       " 'it': 1,\n",
       " 'keeps': 1,\n",
       " 'koh': 2,\n",
       " 'kohinoor': 2,\n",
       " 'lonely': 1,\n",
       " 'm': 1,\n",
       " 'market': 2,\n",
       " 'math': 2,\n",
       " 'me': 2,\n",
       " 'mentally': 1,\n",
       " 'methane': 1,\n",
       " 'moon': 2,\n",
       " 'my': 1,\n",
       " 'noor': 2,\n",
       " 'of': 4,\n",
       " 'one': 1,\n",
       " 'oxide': 1,\n",
       " 'phone': 1,\n",
       " 'question1': 1,\n",
       " 'question2': 1,\n",
       " 'quikly': 1,\n",
       " 'remainder': 1,\n",
       " 'rising': 1,\n",
       " 'salt': 2,\n",
       " 'say': 2,\n",
       " 'share': 2,\n",
       " 'should': 2,\n",
       " 'solve': 1,\n",
       " 'speed': 2,\n",
       " 'step': 4,\n",
       " 'stole': 1,\n",
       " 'story': 1,\n",
       " 'sugar': 1,\n",
       " 'sun': 2,\n",
       " 'survive': 1,\n",
       " 'that': 1,\n",
       " 'the': 7,\n",
       " 'this': 1,\n",
       " 'through': 1,\n",
       " 'tiago': 1,\n",
       " 'to': 3,\n",
       " 'triple': 1,\n",
       " 'use': 2,\n",
       " 'using': 1,\n",
       " 'very': 1,\n",
       " 'video': 1,\n",
       " 'vpn': 1,\n",
       " 'water': 2,\n",
       " 'what': 8,\n",
       " 'when': 3,\n",
       " 'which': 2,\n",
       " 'while': 1,\n",
       " 'why': 1,\n",
       " 'would': 2,\n",
       " 'you': 2,\n",
       " '\\xe3': 2}"
      ]
     },
     "execution_count": 15,
     "metadata": {},
     "output_type": "execute_result"
    }
   ],
   "source": [
    "counter"
   ]
  },
  {
   "cell_type": "code",
   "execution_count": null,
   "metadata": {},
   "outputs": [],
   "source": []
  }
 ],
 "metadata": {
  "kernelspec": {
   "display_name": "Python 2",
   "language": "python",
   "name": "python2"
  },
  "language_info": {
   "codemirror_mode": {
    "name": "ipython",
    "version": 2
   },
   "file_extension": ".py",
   "mimetype": "text/x-python",
   "name": "python",
   "nbconvert_exporter": "python",
   "pygments_lexer": "ipython2",
   "version": "2.7.12"
  }
 },
 "nbformat": 4,
 "nbformat_minor": 1
}
